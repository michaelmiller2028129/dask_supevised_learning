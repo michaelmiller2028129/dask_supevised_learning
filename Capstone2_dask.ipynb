{
 "cells": [
  {
   "cell_type": "markdown",
   "metadata": {},
   "source": [
    "**WORK FLOW:**\n",
    "\n",
    "\n",
    "SECTIONS FOR PRESENTATION\n",
    "        \n",
    "        IMPORTS\n",
    "        MY DEFINED FUNCTIONS\n",
    "        COLUMN DESCRIPTIONS\n",
    "        MODEL PREP\n",
    "        LR MODEL"
   ]
  },
  {
   "cell_type": "markdown",
   "metadata": {},
   "source": [
    "**IMPORTS**"
   ]
  },
  {
   "cell_type": "code",
   "execution_count": 1,
   "metadata": {},
   "outputs": [],
   "source": [
    "import joblib\n",
    "from dask_ml.model_selection import train_test_split\n",
    "from sklearn.model_selection import cross_validate, GridSearchCV"
   ]
  },
  {
   "cell_type": "code",
   "execution_count": 2,
   "metadata": {},
   "outputs": [
    {
     "data": {
      "text/html": [
       "<table style=\"border: 2px solid white;\">\n",
       "<tr>\n",
       "<td style=\"vertical-align: top; border: 0px solid white\">\n",
       "<h3 style=\"text-align: left;\">Client</h3>\n",
       "<ul style=\"text-align: left; list-style: none; margin: 0; padding: 0;\">\n",
       "  <li><b>Scheduler: </b>tcp://127.0.0.1:58458</li>\n",
       "  <li><b>Dashboard: </b><a href='http://127.0.0.1:58457/status' target='_blank'>http://127.0.0.1:58457/status</a></li>\n",
       "</ul>\n",
       "</td>\n",
       "<td style=\"vertical-align: top; border: 0px solid white\">\n",
       "<h3 style=\"text-align: left;\">Cluster</h3>\n",
       "<ul style=\"text-align: left; list-style:none; margin: 0; padding: 0;\">\n",
       "  <li><b>Workers: </b>4</li>\n",
       "  <li><b>Cores: </b>8</li>\n",
       "  <li><b>Memory: </b>8.00 GB</li>\n",
       "</ul>\n",
       "</td>\n",
       "</tr>\n",
       "</table>"
      ],
      "text/plain": [
       "<Client: 'tcp://127.0.0.1:58458' processes=4 threads=8, memory=8.00 GB>"
      ]
     },
     "execution_count": 2,
     "metadata": {},
     "output_type": "execute_result"
    }
   ],
   "source": [
    "\n",
    "from sklearn.linear_model import LinearRegression, Ridge, Lasso, ElasticNet\n",
    "from statsmodels.stats.diagnostic import het_breuschpagan\n",
    "from sklearn import tree, ensemble\n",
    "import pandas as pd\n",
    "import numpy as np\n",
    "from sklearn.svm import SVR, SVC\n",
    "from scipy import stats\n",
    "from sklearn.preprocessing import OneHotEncoder, StandardScaler, MinMaxScaler\n",
    "from sklearn.compose import ColumnTransformer\n",
    "from sklearn.model_selection import train_test_split, GridSearchCV, cross_val_score\n",
    "from sklearn.preprocessing import MinMaxScaler, StandardScaler, OneHotEncoder\n",
    "from sklearn.feature_selection import SelectKBest, f_regression, f_classif\n",
    "from sklearn.neighbors import KNeighborsRegressor, KNeighborsClassifier\n",
    "from sklearn.compose import ColumnTransformer\n",
    "from sklearn.pipeline import Pipeline\n",
    "import math\n",
    "from sklearn.metrics import mean_absolute_error,confusion_matrix, classification_report\n",
    "from sklearn.ensemble import RandomForestRegressor, RandomForestClassifier, GradientBoostingRegressor, GradientBoostingClassifier\n",
    "from statsmodels.stats.outliers_influence import variance_inflation_factor\n",
    "from statsmodels.tools.eval_measures import mse, rmse\n",
    "import warnings\n",
    "import statsmodels.formula.api as smf\n",
    "import statsmodels.api as sm\n",
    "import seaborn as sns\n",
    "import matplotlib.pyplot as plt\n",
    "warnings.filterwarnings('ignore')\n",
    "%matplotlib inline\n",
    "\n",
    "import dask.bag as db\n",
    "import dask.dataframe as dd\n",
    "\n",
    "from dask_ml.model_selection import train_test_split\n",
    "from dask_ml.preprocessing import MinMaxScaler\n",
    "\n",
    "import warnings\n",
    "warnings.filterwarnings(\"ignore\")\n",
    "\n",
    "from dask.distributed import Client, progress\n",
    "\n",
    "client = Client(n_workers=4, threads_per_worker=2, memory_limit='2GB')\n",
    "client"
   ]
  },
  {
   "cell_type": "markdown",
   "metadata": {},
   "source": [
    "**MY DEFINED FUNCTIONS**"
   ]
  },
  {
   "cell_type": "code",
   "execution_count": 3,
   "metadata": {},
   "outputs": [],
   "source": [
    "def print_vif(x):\n",
    "    \"\"\"Utility for checking multicollinearity assumption\n",
    "    \n",
    "    :param x: input features to check using VIF. This is assumed to be a pandas.DataFrame\n",
    "    :return: nothing is returned the VIFs are printed as a pandas series\n",
    "    \"\"\"\n",
    "    # Silence numpy FutureWarning about .ptp\n",
    "    with warnings.catch_warnings():\n",
    "        warnings.simplefilter(\"ignore\")\n",
    "        x = sm.add_constant(x)\n",
    "\n",
    "    vifs = []\n",
    "    for i in range(x.shape[1]):\n",
    "        vif = variance_inflation_factor(x.values, i)\n",
    "        vifs.append(vif)\n",
    "\n",
    "    print(\"VIF results\\n-------------------------------\")\n",
    "    print(pd.Series(vifs, index=x.columns))\n",
    "    print(\"-------------------------------\\n\")\n",
    "    \n",
    "def eval_preds(y_true, y_pred):\n",
    "    error = y_true - y_pred\n",
    "\n",
    "    rmse = np.sqrt((error ** 2).mean())\n",
    "    mae = error.abs().mean()\n",
    "    mape = (error / y_true).abs().mean()\n",
    "\n",
    "    print(f\"rmse {rmse:.2f}\")\n",
    "    print(f\"mae {mae:.2f}\")\n",
    "    print(f\"mape {mape:.2f}\")\n",
    "\n",
    "    line_pts = [y_true.min(), y_true.max()]\n",
    "    plt.scatter(y_true, y_pred)\n",
    "    plt.plot(line_pts, line_pts, c=\"red\", ls=\"--\", alpha=0.5)\n",
    "    plt.xlabel(\"Actual\")\n",
    "    plt.ylabel(\"Fit\")\n",
    "    plt.show()\n",
    "    \n",
    "def one_hot_encode(X, encode_cols, index=None):\n",
    "    other_cols = [c for c in X.columns if c not in encode_cols]\n",
    "\n",
    "    ct = ColumnTransformer(\n",
    "        #   Format\n",
    "        #   [(\"name of step\", what_to_do(), [what columns to do it to])]\n",
    "        [(\"one hot encode\", OneHotEncoder(drop=\"first\", sparse=False), encode_cols)],\n",
    "        remainder=\"passthrough\",\n",
    "    )\n",
    "\n",
    "    ct.fit(X)\n",
    "\n",
    "    # This is not the flexible and definitely not the most\n",
    "    # readable way to get column names, a function would be better\n",
    "    encoded_names = ct.transformers_[0][1].get_feature_names()\n",
    "    encoded_names = list(encoded_names)\n",
    "\n",
    "    X_encoded = ct.transform(X)\n",
    "    X_encoded = pd.DataFrame(X_encoded, columns=encoded_names + other_cols, index=index)\n",
    "\n",
    "    return X_encoded"
   ]
  },
  {
   "cell_type": "markdown",
   "metadata": {},
   "source": [
    "**Column descriptions** 'G', 'W', 'BARTHAG', 'TOR', 'ORB', 'DRB', 'FTR', '2P_O', '2P_D',\n",
    "       '3P_D'\n",
    "\n",
    "RK: The ranking of the team at the end of the regular season according to barttorvik\n",
    "\n",
    "TEAM:The Division I college basketball school\n",
    "\n",
    "CONF:The Athletic Conference in which the school participates in (A10 = Atlantic 10, ACC = Atlantic Coast Conference, AE = America East, Amer = American, ASun = ASUN, B10 = Big Ten, B12 = Big 12, BE = Big East, BSky = Big Sky, BSth = Big South, BW = Big West, CAA = Colonial Athletic Association, CUSA = Conference USA, Horz = Horizon League, Ivy = Ivy League, MAAC = Metro Atlantic Athletic Conference, MAC = Mid-American Conference, MEAC = Mid-Eastern Athletic Conference, MVC = Missouri Valley Conference, MWC = Mountain West, NEC = Northeast Conference, OVC = Ohio Valley Conference, P12 = Pac-12, Pat = Patriot League, SB = Sun Belt, SC = Southern Conference, SEC = South Eastern Conference, Slnd = Southland Conference, Sum = Summit League, SWAC = Southwestern Athletic Conference, WAC = Western Athletic Conference, WCC = West Coast Conference)\n",
    "\n",
    "GNumber: of games played\n",
    "\n",
    "WNumber: of games won\n",
    "\n",
    "ADJOE: Adjusted Offensive Efficiency (An estimate of the offensive efficiency (points scored per 100 possessions) a team would have against the average Division I defense)\n",
    "\n",
    "ADJDE: Adjusted Defensive Efficiency (An estimate of the defensive efficiency (points allowed per 100 possessions) a team would have against the average Division I offense)\n",
    "\n",
    "BARTHAG: Power Rating (Chance of beating an average Division I team)\n",
    "\n",
    "EFG_O: Effective Field Goal Percentage Shot\n",
    "\n",
    "EFG_D: Effective Field Goal Percentage Allowed\n",
    "\n",
    "TOR: Turnover Percentage Allowed (Turnover Rate)\n",
    "\n",
    "TORD: Turnover Percentage Committed (Steal Rate)\n",
    "\n",
    "ORB: Offensive Rebound Percentage\n",
    "\n",
    "DRB: Defensive Rebound Percentage\n",
    "\n",
    "FTR: Free Throw Rate (How often the given team shoots Free Throws)\n",
    "\n",
    "FTRD: Free Throw Rate Allowed\n",
    "\n",
    "2P_O: Two-Point Shooting Percentage\n",
    "\n",
    "2P_D: Two-Point Shooting Percentage Allowed\n",
    "\n",
    "3P_O: Three-Point Shooting Percentage\n",
    "\n",
    "3P_D: Three-Point Shooting Percentage Allowed\n",
    "\n",
    "ADJ_T: Adjusted Tempo (An estimate of the tempo (possessions per 40 minutes) a team would have against the team that wants to play at an average Division I tempo)\n",
    "\n",
    "WAB: Wins Above Bubble (The bubble refers to the cut off between making the NCAA March Madness Tournament and not making it)\n",
    "\n",
    "POSTSEASON: Round where the given team was eliminated or where their season ended (R68 = First Four, R64 = Round of 64, R32 = Round of 32, S16 = Sweet Sixteen, E8 = Elite Eight, F4 = Final Four, 2ND = Runner-up, Champion = Winner of the NCAA March Madness Tournament for that given year)\n",
    "\n",
    "SEED: Seed in the NCAA March Madness Tournament YEAR: Season"
   ]
  },
  {
   "cell_type": "code",
   "execution_count": 4,
   "metadata": {},
   "outputs": [],
   "source": [
    "cbb = dd.read_csv('cbb.csv')\n",
    "\n"
   ]
  },
  {
   "cell_type": "code",
   "execution_count": 5,
   "metadata": {},
   "outputs": [
    {
     "name": "stdout",
     "output_type": "stream",
     "text": [
      "Dask DataFrame Structure:\n",
      "                 TEAM    CONF      G      W    ADJOE    ADJDE  BARTHAG    EFG_O    EFG_D      TOR     TORD      ORB      DRB      FTR     FTRD     2P_O     2P_D     3P_O     3P_D    ADJ_T      WAB POSTSEASON     SEED   YEAR\n",
      "npartitions=1                                                                                                                                                                                                                  \n",
      "               object  object  int64  int64  float64  float64  float64  float64  float64  float64  float64  float64  float64  float64  float64  float64  float64  float64  float64  float64  float64     object  float64  int64\n",
      "                  ...     ...    ...    ...      ...      ...      ...      ...      ...      ...      ...      ...      ...      ...      ...      ...      ...      ...      ...      ...      ...        ...      ...    ...\n",
      "Dask Name: read-csv, 1 tasks\n"
     ]
    }
   ],
   "source": [
    "print(cbb)"
   ]
  },
  {
   "cell_type": "markdown",
   "metadata": {},
   "source": [
    "-------------------------------------------------------------------------------------------------------------------------------\n",
    "\n",
    "\n",
    "**MODEL PREP** (for more  indepth reasons of why i maniplulated the data the way i did see EDA section)"
   ]
  },
  {
   "cell_type": "code",
   "execution_count": 6,
   "metadata": {
    "scrolled": true
   },
   "outputs": [],
   "source": [
    "#i noticed a huge difference in number of games and did some double checking the 'G' values 24-26 are missing games. \n",
    "#I also noticed the 'CONF' value Slnd has a lot off errrors. CONF == Ind only has one value.\n",
    "#so i am droppnig rows with (conf == Slnd or Ind) and rows G <=26\n",
    "cbb = cbb.loc[cbb['G'] >= 27]\n",
    "cbb = cbb.loc[cbb['CONF'] != 'Slnd']\n",
    "cbb = cbb.loc[cbb['CONF'] != 'Ind']\n"
   ]
  },
  {
   "cell_type": "code",
   "execution_count": 7,
   "metadata": {},
   "outputs": [],
   "source": [
    "# trying to predict who would make NCAA basketball tourn using'SEED' as prediction 'POSTSEASON' and 'WAB' are cheat \n",
    "#columns so dropping them\n",
    "cbb_seed_con = cbb.copy()\n",
    "cbb_seed_con = cbb_seed_con.drop(columns=['POSTSEASON', 'WAB'])"
   ]
  },
  {
   "cell_type": "code",
   "execution_count": 8,
   "metadata": {
    "scrolled": true
   },
   "outputs": [
    {
     "data": {
      "text/html": [
       "<div>\n",
       "<style scoped>\n",
       "    .dataframe tbody tr th:only-of-type {\n",
       "        vertical-align: middle;\n",
       "    }\n",
       "\n",
       "    .dataframe tbody tr th {\n",
       "        vertical-align: top;\n",
       "    }\n",
       "\n",
       "    .dataframe thead th {\n",
       "        text-align: right;\n",
       "    }\n",
       "</style>\n",
       "<table border=\"1\" class=\"dataframe\">\n",
       "  <thead>\n",
       "    <tr style=\"text-align: right;\">\n",
       "      <th></th>\n",
       "      <th>G</th>\n",
       "      <th>W</th>\n",
       "      <th>BARTHAG</th>\n",
       "      <th>TOR</th>\n",
       "      <th>ORB</th>\n",
       "      <th>DRB</th>\n",
       "      <th>FTR</th>\n",
       "      <th>2P_O</th>\n",
       "      <th>2P_D</th>\n",
       "      <th>3P_D</th>\n",
       "      <th>SEED</th>\n",
       "    </tr>\n",
       "  </thead>\n",
       "  <tbody>\n",
       "    <tr>\n",
       "      <th>0</th>\n",
       "      <td>40</td>\n",
       "      <td>33</td>\n",
       "      <td>0.9531</td>\n",
       "      <td>15.4</td>\n",
       "      <td>40.7</td>\n",
       "      <td>30.0</td>\n",
       "      <td>32.3</td>\n",
       "      <td>53.9</td>\n",
       "      <td>44.6</td>\n",
       "      <td>36.2</td>\n",
       "      <td>1.0</td>\n",
       "    </tr>\n",
       "    <tr>\n",
       "      <th>1</th>\n",
       "      <td>40</td>\n",
       "      <td>36</td>\n",
       "      <td>0.9758</td>\n",
       "      <td>12.4</td>\n",
       "      <td>32.1</td>\n",
       "      <td>23.7</td>\n",
       "      <td>36.2</td>\n",
       "      <td>54.8</td>\n",
       "      <td>44.7</td>\n",
       "      <td>37.5</td>\n",
       "      <td>1.0</td>\n",
       "    </tr>\n",
       "    <tr>\n",
       "      <th>2</th>\n",
       "      <td>40</td>\n",
       "      <td>33</td>\n",
       "      <td>0.9375</td>\n",
       "      <td>14.0</td>\n",
       "      <td>25.5</td>\n",
       "      <td>24.9</td>\n",
       "      <td>30.7</td>\n",
       "      <td>54.7</td>\n",
       "      <td>46.8</td>\n",
       "      <td>33.2</td>\n",
       "      <td>3.0</td>\n",
       "    </tr>\n",
       "    <tr>\n",
       "      <th>3</th>\n",
       "      <td>38</td>\n",
       "      <td>31</td>\n",
       "      <td>0.9696</td>\n",
       "      <td>17.7</td>\n",
       "      <td>27.4</td>\n",
       "      <td>28.7</td>\n",
       "      <td>32.9</td>\n",
       "      <td>52.8</td>\n",
       "      <td>41.9</td>\n",
       "      <td>29.7</td>\n",
       "      <td>3.0</td>\n",
       "    </tr>\n",
       "    <tr>\n",
       "      <th>4</th>\n",
       "      <td>39</td>\n",
       "      <td>37</td>\n",
       "      <td>0.9728</td>\n",
       "      <td>16.2</td>\n",
       "      <td>30.0</td>\n",
       "      <td>26.2</td>\n",
       "      <td>39.0</td>\n",
       "      <td>56.3</td>\n",
       "      <td>40.0</td>\n",
       "      <td>29.0</td>\n",
       "      <td>1.0</td>\n",
       "    </tr>\n",
       "  </tbody>\n",
       "</table>\n",
       "</div>"
      ],
      "text/plain": [
       "    G   W  BARTHAG   TOR   ORB   DRB   FTR  2P_O  2P_D  3P_D  SEED\n",
       "0  40  33   0.9531  15.4  40.7  30.0  32.3  53.9  44.6  36.2   1.0\n",
       "1  40  36   0.9758  12.4  32.1  23.7  36.2  54.8  44.7  37.5   1.0\n",
       "2  40  33   0.9375  14.0  25.5  24.9  30.7  54.7  46.8  33.2   3.0\n",
       "3  38  31   0.9696  17.7  27.4  28.7  32.9  52.8  41.9  29.7   3.0\n",
       "4  39  37   0.9728  16.2  30.0  26.2  39.0  56.3  40.0  29.0   1.0"
      ]
     },
     "execution_count": 8,
     "metadata": {},
     "output_type": "execute_result"
    }
   ],
   "source": [
    "#after looking at correlation  and vif decided to drop the following columns  #'ADJOE', 'ADJDE',\n",
    "cbb_seed_con =cbb_seed_con.drop(columns=[ 'CONF','EFG_O', 'EFG_D', 'ADJ_T', '3P_O', 'FTRD','TORD','ADJOE', 'ADJDE'])\n",
    "cbb_seed_con =cbb_seed_con.drop(columns=['TEAM', 'YEAR'])\n",
    "cbb_seed_con.head()\n",
    "                  "
   ]
  },
  {
   "cell_type": "code",
   "execution_count": 9,
   "metadata": {},
   "outputs": [
    {
     "name": "stdout",
     "output_type": "stream",
     "text": [
      "Dask DataFrame Structure:\n",
      "                   G      W  BARTHAG      TOR      ORB      DRB      FTR     2P_O     2P_D     3P_D     SEED\n",
      "npartitions=1                                                                                               \n",
      "               int64  int64  float64  float64  float64  float64  float64  float64  float64  float64  float64\n",
      "                 ...    ...      ...      ...      ...      ...      ...      ...      ...      ...      ...\n",
      "Dask Name: drop_by_shallow_copy, 13 tasks\n"
     ]
    }
   ],
   "source": [
    "print(cbb_seed_con)"
   ]
  },
  {
   "cell_type": "code",
   "execution_count": 10,
   "metadata": {},
   "outputs": [],
   "source": [
    "cbb_seed_con['SEED'] = cbb_seed_con['SEED'].fillna(17)"
   ]
  },
  {
   "cell_type": "code",
   "execution_count": 11,
   "metadata": {},
   "outputs": [
    {
     "data": {
      "text/plain": [
       "0      1.0\n",
       "1      3.0\n",
       "2      2.0\n",
       "3      4.0\n",
       "4      6.0\n",
       "5      9.0\n",
       "6     11.0\n",
       "7     10.0\n",
       "8      7.0\n",
       "9      5.0\n",
       "10    17.0\n",
       "11     8.0\n",
       "12    16.0\n",
       "13    12.0\n",
       "14    13.0\n",
       "15    14.0\n",
       "16    15.0\n",
       "Name: SEED, dtype: float64"
      ]
     },
     "execution_count": 11,
     "metadata": {},
     "output_type": "execute_result"
    }
   ],
   "source": [
    "cbb_seed_con.SEED.unique().compute()"
   ]
  },
  {
   "cell_type": "markdown",
   "metadata": {},
   "source": [
    "**MODEL USED FOR 'SEED' PREDICTION:** ols"
   ]
  },
  {
   "cell_type": "code",
   "execution_count": 12,
   "metadata": {},
   "outputs": [],
   "source": [
    "from sklearn.linear_model import LogisticRegression\n",
    "from sklearn.ensemble import RandomForestClassifier"
   ]
  },
  {
   "cell_type": "code",
   "execution_count": 13,
   "metadata": {},
   "outputs": [],
   "source": [
    "#define X and Y\n",
    "y = cbb_seed_con['SEED']\n",
    "X = cbb_seed_con.drop(columns=['SEED'])\n",
    "#train test split\n",
    "X_train, X_test, y_train, y_test = train_test_split(X, y, test_size = 0.2, random_state = 85)"
   ]
  },
  {
   "cell_type": "code",
   "execution_count": 14,
   "metadata": {},
   "outputs": [
    {
     "data": {
      "text/plain": [
       "{'fit_time': array([0.56948924, 0.3430829 , 0.35804367, 0.5624969 ]),\n",
       " 'score_time': array([0.00498557, 0.00997281, 0.0039897 , 0.00797844]),\n",
       " 'test_score': array([0.79518072, 0.79819277, 0.79819277, 0.81873112])}"
      ]
     },
     "execution_count": 14,
     "metadata": {},
     "output_type": "execute_result"
    }
   ],
   "source": [
    "\n",
    "lr = LogisticRegression()\n",
    "with joblib.parallel_backend('dask'):\n",
    "    scores = cross_validate(lr, X_train.compute(), y_train.compute(), cv=4)\n",
    "    \n",
    "scores"
   ]
  }
 ],
 "metadata": {
  "kernelspec": {
   "display_name": "Python 3",
   "language": "python",
   "name": "python3"
  },
  "language_info": {
   "codemirror_mode": {
    "name": "ipython",
    "version": 3
   },
   "file_extension": ".py",
   "mimetype": "text/x-python",
   "name": "python",
   "nbconvert_exporter": "python",
   "pygments_lexer": "ipython3",
   "version": "3.8.1"
  }
 },
 "nbformat": 4,
 "nbformat_minor": 4
}
